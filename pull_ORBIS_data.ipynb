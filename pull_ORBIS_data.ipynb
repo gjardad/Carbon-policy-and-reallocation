{
 "cells": [
  {
   "cell_type": "code",
   "execution_count": 10,
   "metadata": {},
   "outputs": [
    {
     "name": "stdout",
     "output_type": "stream",
     "text": [
      "Loading library list...\n",
      "Done\n"
     ]
    }
   ],
   "source": [
    "import wrds\n",
    "import pandas as pd\n",
    "\n",
    "conn = wrds.Connection()\n"
   ]
  },
  {
   "cell_type": "code",
   "execution_count": 14,
   "metadata": {},
   "outputs": [],
   "source": [
    "df = pd.read_csv(\"/Users/chasewilliamson/Library/CloudStorage/Dropbox/carbon_policy_reallocation/data/raw/ORBIS/orbis_nace.csv\")[[\"bvdid\",\"CTRYISO\", \"NACEPCOD2\"]]\n",
    "\n",
    "df.dropna(subset=[\"NACEPCOD2\"], inplace=True)\n",
    "# Convert NACEPCOD2 to string to handle numeric codes\n",
    "df[\"NACEPCOD2\"] = df[\"NACEPCOD2\"].astype(str)\n",
    "\n",
    "# Conditional slicing for 2-character codes\n",
    "df.loc[df[\"NACEPCOD2\"].str.len() == 5, \"NACEPCOD2\"] = \"0\" + df.loc[df[\"NACEPCOD2\"].str.len() == 5, \"NACEPCOD2\"]\n",
    "\n",
    "# Create NACE2 column based on conditions\n",
    "df[\"NACE2\"] = df[\"NACEPCOD2\"].str[:2]  # Default case for all lengths\n",
    "\n",
    "\n",
    "# De-duplicate to obtain unique 2 digit NACE x country pairs\n",
    "unique_combinations = df.drop_duplicates(subset=['CTRYISO', 'NACE2'])[['CTRYISO', 'NACE2']]\n",
    "unique_combinations = unique_combinations[unique_combinations['CTRYISO'] != 'US'] # US shouldn't be in here, but there were 2 ETS firms with this ISO code\n",
    "# Group by country and collect NACE2 codes\n",
    "grouped_combinations = unique_combinations.groupby('CTRYISO')['NACE2'].apply(list).to_dict()"
   ]
  },
  {
   "cell_type": "code",
   "execution_count": 16,
   "metadata": {},
   "outputs": [
    {
     "name": "stdout",
     "output_type": "stream",
     "text": [
      "Completed fetching data for AT\n",
      "Completed fetching data for BE\n",
      "Completed fetching data for BG\n",
      "Completed fetching data for CH\n",
      "Completed fetching data for CY\n",
      "Completed fetching data for CZ\n",
      "Completed fetching data for DE\n",
      "Completed fetching data for DK\n",
      "Completed fetching data for EE\n",
      "Completed fetching data for ES\n",
      "Completed fetching data for FI\n",
      "Completed fetching data for FR\n",
      "Completed fetching data for GB\n",
      "Completed fetching data for GR\n",
      "Completed fetching data for HR\n",
      "Completed fetching data for HU\n",
      "Completed fetching data for IE\n",
      "Completed fetching data for IS\n",
      "Completed fetching data for IT\n",
      "Completed fetching data for LT\n",
      "Completed fetching data for LU\n",
      "Completed fetching data for LV\n",
      "Completed fetching data for MT\n",
      "Completed fetching data for NL\n",
      "Completed fetching data for NO\n",
      "Completed fetching data for PL\n",
      "Completed fetching data for PT\n",
      "Completed fetching data for RO\n",
      "Completed fetching data for SE\n",
      "Completed fetching data for SI\n",
      "Completed fetching data for SK\n"
     ]
    },
    {
     "data": {
      "text/html": [
       "<div>\n",
       "<style scoped>\n",
       "    .dataframe tbody tr th:only-of-type {\n",
       "        vertical-align: middle;\n",
       "    }\n",
       "\n",
       "    .dataframe tbody tr th {\n",
       "        vertical-align: top;\n",
       "    }\n",
       "\n",
       "    .dataframe thead th {\n",
       "        text-align: right;\n",
       "    }\n",
       "</style>\n",
       "<table border=\"1\" class=\"dataframe\">\n",
       "  <thead>\n",
       "    <tr style=\"text-align: right;\">\n",
       "      <th></th>\n",
       "      <th>bvdid</th>\n",
       "      <th>ctryiso</th>\n",
       "      <th>nace2</th>\n",
       "    </tr>\n",
       "  </thead>\n",
       "  <tbody>\n",
       "    <tr>\n",
       "      <th>0</th>\n",
       "      <td>AT*110306067026</td>\n",
       "      <td>AT</td>\n",
       "      <td>62</td>\n",
       "    </tr>\n",
       "    <tr>\n",
       "      <th>1</th>\n",
       "      <td>AT*470450116</td>\n",
       "      <td>AT</td>\n",
       "      <td>66</td>\n",
       "    </tr>\n",
       "    <tr>\n",
       "      <th>2</th>\n",
       "      <td>AT*550539882</td>\n",
       "      <td>AT</td>\n",
       "      <td>47</td>\n",
       "    </tr>\n",
       "    <tr>\n",
       "      <th>3</th>\n",
       "      <td>AT*552006406</td>\n",
       "      <td>AT</td>\n",
       "      <td>64</td>\n",
       "    </tr>\n",
       "    <tr>\n",
       "      <th>4</th>\n",
       "      <td>AT*642617693</td>\n",
       "      <td>AT</td>\n",
       "      <td>85</td>\n",
       "    </tr>\n",
       "    <tr>\n",
       "      <th>...</th>\n",
       "      <td>...</td>\n",
       "      <td>...</td>\n",
       "      <td>...</td>\n",
       "    </tr>\n",
       "    <tr>\n",
       "      <th>48903641</th>\n",
       "      <td>SK55143555</td>\n",
       "      <td>SK</td>\n",
       "      <td>68</td>\n",
       "    </tr>\n",
       "    <tr>\n",
       "      <th>48903642</th>\n",
       "      <td>SKFEB19019</td>\n",
       "      <td>SK</td>\n",
       "      <td>64</td>\n",
       "    </tr>\n",
       "    <tr>\n",
       "      <th>48903643</th>\n",
       "      <td>SKFEB42683</td>\n",
       "      <td>SK</td>\n",
       "      <td>64</td>\n",
       "    </tr>\n",
       "    <tr>\n",
       "      <th>48903644</th>\n",
       "      <td>SKFEB44804</td>\n",
       "      <td>SK</td>\n",
       "      <td>64</td>\n",
       "    </tr>\n",
       "    <tr>\n",
       "      <th>48903645</th>\n",
       "      <td>SKFEB49407</td>\n",
       "      <td>SK</td>\n",
       "      <td>64</td>\n",
       "    </tr>\n",
       "  </tbody>\n",
       "</table>\n",
       "<p>48903646 rows × 3 columns</p>\n",
       "</div>"
      ],
      "text/plain": [
       "                    bvdid ctryiso nace2\n",
       "0         AT*110306067026      AT    62\n",
       "1            AT*470450116      AT    66\n",
       "2            AT*550539882      AT    47\n",
       "3            AT*552006406      AT    64\n",
       "4            AT*642617693      AT    85\n",
       "...                   ...     ...   ...\n",
       "48903641       SK55143555      SK    68\n",
       "48903642       SKFEB19019      SK    64\n",
       "48903643       SKFEB42683      SK    64\n",
       "48903644       SKFEB44804      SK    64\n",
       "48903645       SKFEB49407      SK    64\n",
       "\n",
       "[48903646 rows x 3 columns]"
      ]
     },
     "metadata": {},
     "output_type": "display_data"
    }
   ],
   "source": [
    "# Initialize an empty list to store the data chunks\n",
    "data_chunks = []\n",
    "\n",
    "# Loop through each unique country and pull the data\n",
    "for ctryiso, nace2_list in grouped_combinations.items():\n",
    "    # Construct the WHERE clause for NACE2 codes\n",
    "    nace2_conditions = \" OR \".join([f\"LEFT(nacepcod2, 2) = '{nace2}'\" for nace2 in nace2_list])\n",
    "    \n",
    "    query = f\"\"\"\n",
    "        SELECT bvdid, \n",
    "            ctryiso, \n",
    "            LEFT(nacepcod2, 2) AS NACE2\n",
    "        FROM bvd.ob_w_company_profiles_lms\n",
    "        WHERE ctryiso = '{ctryiso}' \n",
    "            AND ({nace2_conditions})\n",
    "    \"\"\"\n",
    "    \n",
    "    # Fetch data for the current country\n",
    "    df_chunk = pd.DataFrame(conn.raw_sql(query))\n",
    "    \n",
    "    # Append the data chunk to the list\n",
    "    data_chunks.append(df_chunk)\n",
    "\n",
    "    # Print status message\n",
    "    print(\"Completed fetching data for\", ctryiso)\n",
    "\n",
    "# Concatenate all data chunks into a single DataFrame (if needed)\n",
    "final_df = pd.concat(data_chunks, ignore_index=True)\n",
    "\n",
    "# Display the final DataFrame\n",
    "display(final_df)\n"
   ]
  },
  {
   "cell_type": "code",
   "execution_count": 21,
   "metadata": {},
   "outputs": [],
   "source": [
    "final_df[[\"bvdid\"]].to_csv(\"/Users/chasewilliamson/Library/CloudStorage/Dropbox/carbon_policy_reallocation/data/raw/ORBIS/orbis_bvdids_full.csv\", index=False)"
   ]
  },
  {
   "cell_type": "code",
   "execution_count": 22,
   "metadata": {},
   "outputs": [],
   "source": [
    "final_df.to_csv(\"/Users/chasewilliamson/Library/CloudStorage/Dropbox/carbon_policy_reallocation/data/raw/ORBIS/orbis_nace2_full.csv\", index=False)"
   ]
  },
  {
   "cell_type": "code",
   "execution_count": 52,
   "metadata": {},
   "outputs": [],
   "source": [
    "bvdid_list1 = final_df.iloc[:1000000,0]"
   ]
  },
  {
   "cell_type": "code",
   "execution_count": 42,
   "metadata": {},
   "outputs": [
    {
     "data": {
      "text/plain": [
       "0        AT*110306067026\n",
       "1           AT*470450116\n",
       "2           AT*550539882\n",
       "3           AT*552006406\n",
       "4           AT*642617693\n",
       "              ...       \n",
       "99995       AT9030271209\n",
       "99996       AT9030271211\n",
       "99997       AT9030271222\n",
       "99998       AT9030271227\n",
       "99999       AT9030267511\n",
       "Name: bvdid, Length: 100000, dtype: object"
      ]
     },
     "execution_count": 42,
     "metadata": {},
     "output_type": "execute_result"
    }
   ],
   "source": [
    "bvdid_list1"
   ]
  },
  {
   "cell_type": "code",
   "execution_count": 56,
   "metadata": {},
   "outputs": [],
   "source": [
    "# Step 1: Construct the SQL query with IN clause\n",
    "id_list = final_df[\"bvdid\"].tolist()\n",
    "id_str = ','.join([f\"'{id}'\" for id in id_list])  # Surround each ID with single quotes\n",
    "\n",
    "query = f\"\"\"\n",
    "    SELECT \n",
    "        bvdid, \n",
    "        ctryiso, \n",
    "        closdate, \n",
    "        exchrate, \n",
    "        av, \n",
    "        turn, \n",
    "        staf, \n",
    "        tfas, \n",
    "        conscode\n",
    "    FROM bvd.ob_w_ind_g_fins_cfl_usd_int_lms\n",
    "    WHERE bvdid IN ({id_str})\"\"\"\n",
    "    \n",
    "full_orbis = pd.DataFrame(conn.raw_sql(query) )\n"
   ]
  },
  {
   "cell_type": "code",
   "execution_count": 55,
   "metadata": {},
   "outputs": [
    {
     "data": {
      "text/plain": [
       "0           AT*110306067026\n",
       "1              AT*470450116\n",
       "2              AT*550539882\n",
       "3              AT*552006406\n",
       "4              AT*642617693\n",
       "                 ...       \n",
       "48903641         SK55143555\n",
       "48903642         SKFEB19019\n",
       "48903643         SKFEB42683\n",
       "48903644         SKFEB44804\n",
       "48903645         SKFEB49407\n",
       "Name: bvdid, Length: 48903646, dtype: object"
      ]
     },
     "execution_count": 55,
     "metadata": {},
     "output_type": "execute_result"
    }
   ],
   "source": [
    "final_df[[\"bvdid\"]][\"bvdid\"]"
   ]
  },
  {
   "cell_type": "code",
   "execution_count": null,
   "metadata": {},
   "outputs": [],
   "source": []
  }
 ],
 "metadata": {
  "kernelspec": {
   "display_name": "base",
   "language": "python",
   "name": "python3"
  },
  "language_info": {
   "codemirror_mode": {
    "name": "ipython",
    "version": 3
   },
   "file_extension": ".py",
   "mimetype": "text/x-python",
   "name": "python",
   "nbconvert_exporter": "python",
   "pygments_lexer": "ipython3",
   "version": "3.11.6"
  }
 },
 "nbformat": 4,
 "nbformat_minor": 2
}
